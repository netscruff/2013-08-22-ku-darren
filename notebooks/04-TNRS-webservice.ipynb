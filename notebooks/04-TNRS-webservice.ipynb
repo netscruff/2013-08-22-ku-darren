{
 "metadata": {
  "name": "04-TNRS-webservice"
 },
 "nbformat": 3,
 "nbformat_minor": 0,
 "worksheets": [
  {
   "cells": [
    {
     "cell_type": "code",
     "collapsed": false,
     "input": [
      "import requests\n",
      "import urllib\n",
      "\n",
      "DOMAIN = 'http://tnrs.iplantc.org'\n",
      "SUBMIT_PATH = 'tnrsm-svc/matchNames'\n",
      "SUBMIT_URI = DOMAIN + '/' + SUBMIT_PATH\n",
      "\n",
      "names = 'zea mays,acacia,solanum'\n",
      "\n",
      "query = {'retrieve' : 'all' , 'names' : names}\n",
      "resp = requests.get(SUBMIT_URI, params=query, allow_redirects=True)\n",
      "results = resp.json()\n",
      "print '{0:10} {1:40} {2:20}'.format(\"Submitted\",\"Source\",\"Accepted\")\n",
      "for item in results['items']:\n",
      "    print '{0:10} {1:40} {2:20}'.format(item['nameSubmitted'],\n",
      "        item['url'],item['acceptedName'])"
     ],
     "language": "python",
     "metadata": {},
     "outputs": [
      {
       "output_type": "stream",
       "stream": "stdout",
       "text": [
        "Submitted  Source                                   Accepted            \n",
        "zea mays   http://www.tropicos.org/Name/25510055    Zea mays            \n",
        "acacia     http://www.tropicos.org/Name/40003076    Acacia              \n",
        "acacia     http://www.tropicos.org/Name/50215111                        \n",
        "solanum    http://www.tropicos.org/Name/40001681    Solanum             \n"
       ]
      }
     ],
     "prompt_number": 88
    },
    {
     "cell_type": "code",
     "collapsed": false,
     "input": [
      "import json\n",
      "print json.dumps(results['items'][2], sort_keys=True, indent=4, separators=(',', ': '))"
     ],
     "language": "python",
     "metadata": {},
     "outputs": [
      {
       "output_type": "stream",
       "stream": "stdout",
       "text": [
        "{\n",
        "    \"acceptance\": \"No opinion\",\n",
        "    \"acceptedAuthor\": \"\",\n",
        "    \"acceptedName\": \"\",\n",
        "    \"acceptedNameUrl\": \"\",\n",
        "    \"annotation\": \"\",\n",
        "    \"author\": \"\",\n",
        "    \"authorAttributed\": \"Willd.\",\n",
        "    \"authorScore\": \"\",\n",
        "    \"epithet\": \"\",\n",
        "    \"epithetScore\": \"\",\n",
        "    \"family\": \"\",\n",
        "    \"familySubmitted\": \"\",\n",
        "    \"genus\": \"Acacia\",\n",
        "    \"genusScore\": \"1\",\n",
        "    \"group\": \"1\",\n",
        "    \"infraspecific1Epithet\": \"\",\n",
        "    \"infraspecific1EpithetScore\": \"\",\n",
        "    \"infraspecific1Rank\": \"\",\n",
        "    \"infraspecific2Epithet\": \"\",\n",
        "    \"infraspecific2EpithetScore\": \"\",\n",
        "    \"infraspecific2Rank\": \"\",\n",
        "    \"matchedFamily\": \"\",\n",
        "    \"matchedFamilyScore\": \"\",\n",
        "    \"nameScientific\": \"Acacia\",\n",
        "    \"nameSubmitted\": \"acacia\",\n",
        "    \"overall\": \"1\",\n",
        "    \"scientificScore\": \"1\",\n",
        "    \"selected\": false,\n",
        "    \"speciesMatched\": \"\",\n",
        "    \"speciesMatchedScore\": \"\",\n",
        "    \"unmatched\": \"\",\n",
        "    \"url\": \"http://www.tropicos.org/Name/50215111\"\n",
        "}\n"
       ]
      }
     ],
     "prompt_number": 90
    }
   ],
   "metadata": {}
  }
 ]
}
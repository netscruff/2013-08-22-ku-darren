{
 "metadata": {
  "name": "00-BeautifulSoup-FULL"
 },
 "nbformat": 3,
 "nbformat_minor": 0,
 "worksheets": [
  {
   "cells": [
    {
     "cell_type": "markdown",
     "metadata": {},
     "source": [
      "# Beautiful Soup tutorial\n",
      "Beautiful Soup is a Python library for pulling data out of HTML and XML files. It works with your favorite parser to provide idiomatic ways of navigating, searching, and modifying the parse tree. It commonly saves programmers hours or days of work.\n",
      "## Beautiful Soup Urls\n",
      "* [Beautiful Soup Website](http://www.crummy.com/software/BeautifulSoup/)\n",
      "* [Beautiful Soup Documentation](http://www.crummy.com/software/BeautifulSoup/bs4/doc/)\n",
      "\n",
      "## Installation\n",
      "Open bash shell and run:\n",
      "\n",
      "    pip install beautifulsoup4"
     ]
    },
    {
     "cell_type": "code",
     "collapsed": false,
     "input": [
      "from bs4 import BeautifulSoup\n",
      "\n",
      "html_doc = \"\"\"\n",
      "<html><head><title>The Dormouse's story</title></head>\n",
      "<body>\n",
      "<p class=\"title\"><b>The Dormouse's story</b></p>\n",
      "\n",
      "<p class=\"story\">Once upon a time there were three little sisters; and their names were\n",
      "<a href=\"http://example.com/elsie\" class=\"sister\" id=\"link1\">Elsie</a>,\n",
      "<a href=\"http://example.com/lacie\" class=\"sister\" id=\"link2\">Lacie</a> and\n",
      "<a href=\"http://example.com/tillie\" class=\"sister\" id=\"link3\">Tillie</a>;\n",
      "and they lived at the bottom of a well.</p>\n",
      "\n",
      "<p class=\"story\">...</p>\n",
      "\"\"\"\n",
      "\n",
      "soup = BeautifulSoup(html_doc)\n",
      "print(soup.find_all('a'))\n"
     ],
     "language": "python",
     "metadata": {},
     "outputs": []
    },
    {
     "cell_type": "markdown",
     "metadata": {},
     "source": [
      "## Web scraping with Beautiful Soup\n",
      "\n",
      "Suppose we want to get of list of scientific names for a common name from FishBase.\n",
      "\n",
      "[FishBase search page](http://www.fishbase.org/search.php)\n",
      "\n",
      "The search page contains a form to query Fish Base on common name. The form does a form post request to relative url\n",
      "\n",
      "    /ComNames/CommonNameSearchList.php\n",
      "\n",
      "with the common name in the id\n",
      "\n",
      "    CommonName\n",
      "\n",
      "Post requests appends form-data inside the body of the HTTP request (data is not shown is in URL). Get requests appends form-data into the URL in name/value pairs and user is able to bookmark the page. See if we can do a get reuqest with the CommonName query.\n"
     ]
    },
    {
     "cell_type": "code",
     "collapsed": false,
     "input": [
      "import urllib2\n",
      "\n",
      "search_url = 'http://fishbase.se/search.php'\n",
      "search_page = urllib2.urlopen(search_url)\n",
      "\n",
      "print search_page.read(200)"
     ],
     "language": "python",
     "metadata": {},
     "outputs": []
    },
    {
     "cell_type": "markdown",
     "metadata": {},
     "source": [
      "We can now use Beautiful Soup to parse and explore the search page"
     ]
    },
    {
     "cell_type": "code",
     "collapsed": false,
     "input": [
      "soup = BeautifulSoup(search_page)"
     ],
     "language": "python",
     "metadata": {},
     "outputs": []
    },
    {
     "cell_type": "markdown",
     "metadata": {},
     "source": [
      "Explore the search page in Beautiful Soup but avoid printing form tag contents.\n",
      "\n",
      "Bad:\n",
      "\n",
      "    print soup.find_all('form')\n",
      "\n",
      "Good:\n",
      "\n",
      "    for form in soup.find_all('form'):\n",
      "        print form.text"
     ]
    },
    {
     "cell_type": "code",
     "collapsed": false,
     "input": [
      "for form in soup.find_all('form'):\n",
      "    print form.attrs"
     ],
     "language": "python",
     "metadata": {},
     "outputs": []
    },
    {
     "cell_type": "markdown",
     "metadata": {},
     "source": [
      "Print out all the form actions urls contained on the search page "
     ]
    },
    {
     "cell_type": "code",
     "collapsed": false,
     "input": [
      "for form in soup.find_all('form', action=True):\n",
      "    print form.attrs['action']"
     ],
     "language": "python",
     "metadata": {},
     "outputs": []
    },
    {
     "cell_type": "code",
     "collapsed": false,
     "input": [
      "common_name = soup.find('b', text='Common Name')\n",
      "print common_name.parent.parent['action']"
     ],
     "language": "python",
     "metadata": {},
     "outputs": []
    },
    {
     "cell_type": "markdown",
     "metadata": {},
     "source": [
      "We want to get the results of a common name search. We can attempt to do a http get request to the url that is in the action attribute since we can see the get request syntax at the bottom of the search result page.\n",
      "\n",
      "    http://fishbase.se/ComNames/CommonNameSearchList.php?resultPage=2&CommonName=Tuna"
     ]
    },
    {
     "cell_type": "code",
     "collapsed": false,
     "input": [
      "result_url = 'http://fishbase.se/ComNames/CommonNameSearchList.php?CommonName=Tuna'\n",
      "result_page = urllib2.urlopen(result_url)\n",
      "\n",
      "soup = BeautifulSoup(result_page)\n",
      "\n",
      "result_table = soup.find('table', class_='commonTable')\n",
      "scientific_names = [it.text for it in result_table.find_all(\"i\")]\n",
      "print scientific_names"
     ],
     "language": "python",
     "metadata": {},
     "outputs": []
    },
    {
     "cell_type": "markdown",
     "metadata": {},
     "source": [
      "There is a problem however. Does this really give us the full list of names for Tuna?"
     ]
    },
    {
     "cell_type": "code",
     "collapsed": false,
     "input": [
      "next_link = soup.find('a', text='Next')\n",
      "print next_link['href']"
     ],
     "language": "python",
     "metadata": {},
     "outputs": []
    }
   ],
   "metadata": {}
  }
 ]
}
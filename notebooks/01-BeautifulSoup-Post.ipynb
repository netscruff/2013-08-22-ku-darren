{
 "metadata": {
  "name": "01-BeautifulSoup-Post"
 },
 "nbformat": 3,
 "nbformat_minor": 0,
 "worksheets": [
  {
   "cells": [
    {
     "cell_type": "markdown",
     "metadata": {},
     "source": [
      "# Beautiful Soup with post\n",
      "This is an example of using urllib2 to make a post request instead of a get request"
     ]
    },
    {
     "cell_type": "code",
     "collapsed": false,
     "input": [
      "#!/usr/bin/env python\n",
      "import urllib, urllib2\n",
      "from bs4 import BeautifulSoup\n",
      "\n",
      "fish_url = 'http://fishbase.se/ComNames/CommonNameSearchList.php'\n",
      "values = {'CommonName': 'Tuna'}\n",
      "post_data = urllib.urlencode(values)\n",
      "page = urllib2.urlopen(fish_url, post_data)\n",
      "\n",
      "soup = BeautifulSoup(page)\n",
      "\n",
      "result_table = soup.find('table', class_='commonTable')\n",
      "scientific_names = [it.text for it in result_table.find_all('i')]\n",
      "\n",
      "print scientific_names"
     ],
     "language": "python",
     "metadata": {},
     "outputs": [
      {
       "output_type": "stream",
       "stream": "stdout",
       "text": [
        "[u'Cybiosarda elegans', u'Thunnus thynnus', u'Thunnus alalunga', u'Thunnus alalunga', u'Thunnus thynnus', u'Katsuwonus pelamis', u'Thunnus alalunga', u'Thunnus albacares', u'Anguilla marmorata', u'Anguilla obscura', u'Anguilla megastoma', u'Anguilla marmorata', u'Euthynnus affinis', u'Gymnosarda unicolor', u'Gymnosarda unicolor', u'Katsuwonus pelamis', u'Thunnus alalunga', u'Thunnus albacares', u'Thunnus albacares', u'Thunnus obesus', u'Thunnus tonggol', u'Muraenesox cinereus', u'Anguilla bengalensis bengalensis', u'Anguilla bicolor bicolor', u'Anguilla marmorata', u'Gymnothorax undulatus', u'Muraenesox bagio', u'Pisodonophis cancrivorus', u'Anguilla nebulosa', u'Congresox talabon']\n"
       ]
      }
     ],
     "prompt_number": 1
    }
   ],
   "metadata": {}
  }
 ]
}
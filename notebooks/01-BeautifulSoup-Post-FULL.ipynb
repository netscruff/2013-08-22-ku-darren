{
 "metadata": {
  "name": "01-BeautifulSoup-Post-FULL"
 },
 "nbformat": 3,
 "nbformat_minor": 0,
 "worksheets": [
  {
   "cells": [
    {
     "cell_type": "markdown",
     "metadata": {},
     "source": [
      "# Beautiful Soup with post\n",
      "This is an example of using urllib2 to make a post request instead of a get request"
     ]
    },
    {
     "cell_type": "code",
     "collapsed": false,
     "input": [
      "#!/usr/bin/env python\n",
      "import urllib, urllib2\n",
      "from bs4 import BeautifulSoup\n",
      "\n",
      "fish_url = 'http://fishbase.se/ComNames/CommonNameSearchList.php'\n",
      "values = {'CommonName': 'Tuna'}\n",
      "post_data = urllib.urlencode(values)\n",
      "page = urllib2.urlopen(fish_url, post_data)\n",
      "\n",
      "soup = BeautifulSoup(page)\n",
      "\n",
      "result_table = soup.find('table', class_='commonTable')\n",
      "scientific_names = [it.text for it in result_table.find_all('i')]\n",
      "\n",
      "print scientific_names"
     ],
     "language": "python",
     "metadata": {},
     "outputs": []
    }
   ],
   "metadata": {}
  }
 ]
}
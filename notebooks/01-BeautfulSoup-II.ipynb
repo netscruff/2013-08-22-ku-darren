{
 "metadata": {
  "name": "01-BeautfulSoup-II"
 },
 "nbformat": 3,
 "nbformat_minor": 0,
 "worksheets": [
  {
   "cells": [
    {
     "cell_type": "code",
     "collapsed": false,
     "input": [
      "import urllib, urllib2\n",
      "from bs4 import BeautifulSoup\n",
      "\n",
      "def page_results(soup):\n",
      "    result_table = soup.find('table', class_='commonTable')\n",
      "    scientific_names = [it.text for it in result_table.find_all('i')]\n",
      "    return scientific_names\n",
      "\n",
      "result_url = 'http://fishbase.se/ComNames/CommonNameSearchList.php'\n",
      "common_name = 'Tuna'\n",
      "scientific_names = []\n",
      "result_page = urllib2.urlopen(result_url + '?CommonName=' + common_name)\n",
      "soup = BeautifulSoup(result_page)\n",
      "scientific_names += page_results(soup)\n",
      "next_link = soup.find('a', text='Next')\n",
      "while next_link:\n",
      "    soup = BeautifulSoup(urllib2.urlopen(result_url + next_link['href']))\n",
      "    scientific_names += page_results(soup)\n",
      "    next_link = soup.find('a', text='Next')\n",
      "print scientific_names"
     ],
     "language": "python",
     "metadata": {},
     "outputs": [
      {
       "output_type": "stream",
       "stream": "stdout",
       "text": [
        "[u'Cybiosarda elegans', u'Thunnus thynnus', u'Thunnus alalunga', u'Thunnus alalunga', u'Thunnus thynnus', u'Katsuwonus pelamis', u'Thunnus alalunga', u'Thunnus albacares', u'Anguilla marmorata', u'Anguilla obscura', u'Anguilla megastoma', u'Anguilla marmorata', u'Euthynnus affinis', u'Gymnosarda unicolor', u'Gymnosarda unicolor', u'Katsuwonus pelamis', u'Thunnus alalunga', u'Thunnus albacares', u'Thunnus albacares', u'Thunnus obesus', u'Thunnus tonggol', u'Muraenesox cinereus', u'Anguilla bengalensis bengalensis', u'Anguilla bicolor bicolor', u'Anguilla marmorata', u'Gymnothorax undulatus', u'Muraenesox bagio', u'Pisodonophis cancrivorus', u'Anguilla nebulosa', u'Congresox talabon', u'Congresox talabonoides', u'Allothunnus fallai', u'Allothunnus fallai', u'Katsuwonus pelamis', u'Katsuwonus pelamis', u'Thunnus alalunga', u'Thunnus alalunga', u'Thunnus albacares', u'Thunnus albacares', u'Thunnus obesus', u'Thunnus obesus', u'Katsuwonus pelamis', u'Thunnus obesus', u'Thunnus obesus', u'Thunnus obesus', u'Anguilla australis australis', u'Anguilla marmorata', u'Anguilla celebesensis', u'Thunnus alalunga', u'Thunnus thynnus']\n"
       ]
      }
     ],
     "prompt_number": 21
    }
   ],
   "metadata": {}
  }
 ]
}
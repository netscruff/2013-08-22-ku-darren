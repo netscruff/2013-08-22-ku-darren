{
 "metadata": {
  "name": "02-BeautfulSoup-II"
 },
 "nbformat": 3,
 "nbformat_minor": 0,
 "worksheets": [
  {
   "cells": [
    {
     "cell_type": "markdown",
     "metadata": {},
     "source": [
      "Since we will need to parse multiple urls for results we should put the code we run repeatedly into a Python function definition"
     ]
    },
    {
     "cell_type": "code",
     "collapsed": false,
     "input": [
      "import urllib, urllib2\n",
      "from bs4 import BeautifulSoup\n",
      "\n",
      "def page_results(soup):\n",
      "    \"\"\"Return a list of names\n",
      "    \n",
      "    Given an instance of BeautifulSoup, will return all the names it can find\n",
      "    in the search result table\n",
      "\n",
      "    \"\"\""
     ],
     "language": "python",
     "metadata": {},
     "outputs": []
    },
    {
     "cell_type": "markdown",
     "metadata": {},
     "source": [
      "Now we need to rewrite the rest of the script to use the function and make sure we get the results from the additional pages until there are no more"
     ]
    },
    {
     "cell_type": "code",
     "collapsed": false,
     "input": [
      "# The FishBase search url\n",
      "result_url = 'http://fishbase.se/ComNames/CommonNameSearchList.php'\n",
      "# The common name we are serching on\n",
      "common_name = 'Tuna'\n",
      "scientific_names = []\n",
      "query_string = '?CommonName=' + common_name\n",
      "# Keep checking for the next link, when it no longer appers in the results we have\n",
      "# them all"
     ],
     "language": "python",
     "metadata": {},
     "outputs": []
    }
   ],
   "metadata": {}
  }
 ]
}